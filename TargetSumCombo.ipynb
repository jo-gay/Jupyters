{
 "cells": [
  {
   "cell_type": "markdown",
   "metadata": {},
   "source": [
    "## Find smallest combination of numbers from a list, that when added together gives a particular total, allowing repeats ##"
   ]
  },
  {
   "cell_type": "code",
   "execution_count": 40,
   "metadata": {},
   "outputs": [],
   "source": [
    "chooseFrom=[1200, 338, 1580, 1063, -68, -1020, -982, -224]\n",
    "target = -1823\n",
    "\n",
    "#return all lists of length listlen that can be made of integers below nitems, skipping repeats (dupliates allowed, order unimportant)\n",
    "def getLists(listlen, nitems):\n",
    "    if(listlen==1):\n",
    "        return [[x] for x in range(0, nitems)]\n",
    "    l=getLists(listlen-1, nitems)\n",
    "    return [[nitems-x-1]+li for x in range(0, nitems) for li in getLists(listlen-1, nitems-x)]\n",
    "\n"
   ]
  },
  {
   "cell_type": "code",
   "execution_count": 47,
   "metadata": {},
   "outputs": [
    {
     "data": {
      "text/plain": [
       "[[2, 2, 0],\n",
       " [2, 2, 1],\n",
       " [2, 2, 2],\n",
       " [2, 1, 0],\n",
       " [2, 1, 1],\n",
       " [2, 0, 0],\n",
       " [1, 1, 0],\n",
       " [1, 1, 1],\n",
       " [1, 0, 0],\n",
       " [0, 0, 0]]"
      ]
     },
     "execution_count": 47,
     "metadata": {},
     "output_type": "execute_result"
    }
   ],
   "source": [
    "# check it works\n",
    "getLists(3,3)"
   ]
  },
  {
   "cell_type": "code",
   "execution_count": 46,
   "metadata": {},
   "outputs": [
    {
     "name": "stdout",
     "output_type": "stream",
     "text": [
      "[-1227, -68, 1580, 338, 1200]\n"
     ]
    }
   ],
   "source": [
    "#chooseFrom = [1200, 338, 1580, 1063, 1740, 1420, 1260, 1510, -474, -680, -68, -1020, -982, -224, -1104, -90, -337, -1227, -1472, 205, -720, -580]\n",
    "chooseFrom = [1200, 338, 1580, 1740, -474, -680, -68, -1020, -982, -224, -1104, -337, -1227, -1472, 205]\n",
    "\n",
    "target = 1823\n",
    "found = False\n",
    "size = 2\n",
    "counters=[]\n",
    "while(not found):\n",
    "    combos = getLists(size, len(chooseFrom))\n",
    "    for c in combos:\n",
    "        itemsum = 0\n",
    "        for i in c:\n",
    "            itemsum += chooseFrom[i]\n",
    "        if(itemsum==target):\n",
    "            found=True\n",
    "            print([chooseFrom[x] for x in c])\n",
    "            break\n",
    "    size += 1\n",
    "    if(size > 10):\n",
    "        break\n"
   ]
  },
  {
   "cell_type": "code",
   "execution_count": null,
   "metadata": {},
   "outputs": [],
   "source": []
  }
 ],
 "metadata": {
  "kernelspec": {
   "display_name": "Python 3",
   "language": "python",
   "name": "python3"
  },
  "language_info": {
   "codemirror_mode": {
    "name": "ipython",
    "version": 3
   },
   "file_extension": ".py",
   "mimetype": "text/x-python",
   "name": "python",
   "nbconvert_exporter": "python",
   "pygments_lexer": "ipython3",
   "version": "3.6.4"
  }
 },
 "nbformat": 4,
 "nbformat_minor": 2
}
