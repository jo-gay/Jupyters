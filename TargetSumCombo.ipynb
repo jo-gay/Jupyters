{
 "cells": [
  {
   "cell_type": "markdown",
   "metadata": {},
   "source": [
    "## Find smallest combination of numbers from a list, that when added together gives a particular total, allowing a specified number of repeats for each number ##\n",
    "A notebook developed to solve a task in the game Forge of Empires: have exactly X inhabitants available.\n",
    "\n",
    "The scenario is: you are building a city. There are a range of different buildings available to you, including several different types of accommodation (increases your available population) and several types of production building (reduces your available population). You have already built some of these buildings and you also have the option to demolish some.\n",
    "\n",
    "You are presented with a task: Have exactly X inhabitants available, where X is specified by the game (1997 in my example). How can you best achieve this?\n",
    "\n",
    "Instructions: \n",
    "- Enter your available buildings in the list below, with the population increase that they give (negative if population is used up). Specify the maximum number of times you are willing to build (e.g. depending on availability of space) or demolish (e.g. depending on the number that you have built) each one.\n",
    "- Enter the target population and the existing population in the cell below."
   ]
  },
  {
   "cell_type": "code",
   "execution_count": 1,
   "metadata": {},
   "outputs": [],
   "source": [
    "from collections import namedtuple"
   ]
  },
  {
   "cell_type": "code",
   "execution_count": 2,
   "metadata": {},
   "outputs": [],
   "source": [
    "# SETUP: what actions are available (buildings that can be built or demolished) \n",
    "# and how many times are we willing to perform each one?\n",
    "\n",
    "Bldg = namedtuple('Bldg', ['name', 'pop', 'bldMax', 'demMax'])\n",
    "availableBldgs = [\n",
    "    Bldg('Hus med mansardtak', pop=259, bldMax=0, demMax=5),\n",
    "    Bldg('Viktorianskt hus', pop=474, bldMax=2, demMax=2),\n",
    "    Bldg('Urmakare', pop=-68, bldMax=0, demMax=5),\n",
    "    Bldg('Segelmakare', pop=-147, bldMax=0, demMax=1),\n",
    "    Bldg('Stuga', pop=14, bldMax=5, demMax=0),\n",
    "    Bldg('Pålhus', pop=22, bldMax=5, demMax=0),\n",
    "    Bldg('Halmtäckthus', pop=27, bldMax=5, demMax=0),\n",
    "    Bldg('Chaletstuga', pop=32, bldMax=5, demMax=0),\n",
    "    Bldg('Smed', pop=-12, bldMax=5, demMax=0),\n",
    "    Bldg('Jägare', pop=-28, bldMax=3, demMax=0),\n",
    "]"
   ]
  },
  {
   "cell_type": "code",
   "execution_count": 3,
   "metadata": {},
   "outputs": [],
   "source": [
    "# SETUP: what is the target population, what is the max number of actions, how many solutions do we want\n",
    "target = 1997 - 2554 # <required population> - <existing population>\n",
    "maxActions = 10 # Only consider solutions containing up to maxActions actions (increase if no solutions are found)\n",
    "findMax = 5 # Stop when 5 solutions have been found (or maxActions is reached), to give a few different choices"
   ]
  },
  {
   "cell_type": "code",
   "execution_count": 4,
   "metadata": {},
   "outputs": [],
   "source": [
    "# yield lists of length listlen of indices from 0 to len(reps), where each index may be repeated a variable number\n",
    "# of times given by reps[index]\n",
    "def getCombosWithVariableCopies(listlen, reps):\n",
    "    nitems = len(reps)\n",
    "    nactions = sum(reps)\n",
    "    \n",
    "    if listlen == 0:\n",
    "        yield []\n",
    "        return\n",
    "    \n",
    "    if listlen < 1 or listlen > nactions:\n",
    "        return\n",
    "\n",
    "    if nitems == 1:\n",
    "        yield [0] * listlen\n",
    "        return\n",
    "    \n",
    "    if listlen == 1:\n",
    "        for x in range(nitems):\n",
    "            if reps[x] > 0:\n",
    "                yield [x]\n",
    "        return\n",
    "    \n",
    "    if nactions == listlen:\n",
    "        yield [result for idx, count in enumerate(reps) for result in [idx]*count]\n",
    "        return\n",
    "\n",
    "    for copies in range(min(reps[-1]+1, listlen+1)):\n",
    "        for y in getCombosWithVariableCopies(listlen-copies, reps[:-1]):\n",
    "            yield y + [nitems-1]*copies\n",
    "    return"
   ]
  },
  {
   "cell_type": "code",
   "execution_count": 5,
   "metadata": {},
   "outputs": [],
   "source": [
    "# # testing above function\n",
    "# for g in getCombosWithVariableCopies(4, [3,1,3]):\n",
    "#     print(g)\n",
    "# for g in getCombosWithVariableCopies(2, [0,3,1,3,2,0]):\n",
    "#     print(g)"
   ]
  },
  {
   "cell_type": "code",
   "execution_count": 6,
   "metadata": {},
   "outputs": [],
   "source": [
    "# Turn list of available buildings into list of possible actions with their effect, \n",
    "actions = { (b.pop, b.name, 'Build') : b.bldMax for b in availableBldgs }\n",
    "actions.update({ (-b.pop, b.name, 'Demolish') : b.demMax for b in availableBldgs })"
   ]
  },
  {
   "cell_type": "code",
   "execution_count": 7,
   "metadata": {},
   "outputs": [
    {
     "name": "stdout",
     "output_type": "stream",
     "text": [
      "Found combo:\n",
      " \t(-28, 'Jägare', 'Build')\n",
      "\t(-259, 'Hus med mansardtak', 'Demolish')\n",
      "\t(-474, 'Viktorianskt hus', 'Demolish')\n",
      "\t(68, 'Urmakare', 'Demolish')\n",
      "\t(68, 'Urmakare', 'Demolish')\n",
      "\t(68, 'Urmakare', 'Demolish')\n",
      "Found combo:\n",
      " \t(14, 'Stuga', 'Build')\n",
      "\t(27, 'Halmtäckthus', 'Build')\n",
      "\t(-12, 'Smed', 'Build')\n",
      "\t(-259, 'Hus med mansardtak', 'Demolish')\n",
      "\t(-474, 'Viktorianskt hus', 'Demolish')\n",
      "\t(147, 'Segelmakare', 'Demolish')\n",
      "Found combo:\n",
      " \t(27, 'Halmtäckthus', 'Build')\n",
      "\t(27, 'Halmtäckthus', 'Build')\n",
      "\t(27, 'Halmtäckthus', 'Build')\n",
      "\t(27, 'Halmtäckthus', 'Build')\n",
      "\t(-259, 'Hus med mansardtak', 'Demolish')\n",
      "\t(-474, 'Viktorianskt hus', 'Demolish')\n",
      "\t(68, 'Urmakare', 'Demolish')\n",
      "Found combo:\n",
      " \t(22, 'Pålhus', 'Build')\n",
      "\t(27, 'Halmtäckthus', 'Build')\n",
      "\t(27, 'Halmtäckthus', 'Build')\n",
      "\t(32, 'Chaletstuga', 'Build')\n",
      "\t(-259, 'Hus med mansardtak', 'Demolish')\n",
      "\t(-474, 'Viktorianskt hus', 'Demolish')\n",
      "\t(68, 'Urmakare', 'Demolish')\n",
      "Found combo:\n",
      " \t(22, 'Pålhus', 'Build')\n",
      "\t(22, 'Pålhus', 'Build')\n",
      "\t(32, 'Chaletstuga', 'Build')\n",
      "\t(32, 'Chaletstuga', 'Build')\n",
      "\t(-259, 'Hus med mansardtak', 'Demolish')\n",
      "\t(-474, 'Viktorianskt hus', 'Demolish')\n",
      "\t(68, 'Urmakare', 'Demolish')\n"
     ]
    }
   ],
   "source": [
    "# Look for combinations of actions that have the required population effect, starting with 1\n",
    "# action, then try 2 actions, etc. until a combination giving the target effect is found\n",
    "# continue until findMax different combinations has been found, or all combinations up to\n",
    "# length maxActions have been found.\n",
    "\n",
    "# dictionary keys and values are guaranteed to be in the same order\n",
    "possChanges = list(actions.keys())\n",
    "maxRepeats = list(actions.values())\n",
    "\n",
    "found = 0\n",
    "for actionCount in range(1, maxActions+1):\n",
    "    for combo in getCombosWithVariableCopies(actionCount, maxRepeats):\n",
    "        popChange = sum([possChanges[c][0] for c in combo])\n",
    "        if popChange == target:\n",
    "            found += 1\n",
    "            print(\"Found combo:\\n\", '\\n'.join([\"\\t\"+str(possChanges[c]) for c in combo]))\n",
    "            if found == findMax: break\n",
    "    if found == findMax: break\n"
   ]
  },
  {
   "cell_type": "code",
   "execution_count": null,
   "metadata": {},
   "outputs": [],
   "source": []
  }
 ],
 "metadata": {
  "kernelspec": {
   "display_name": "Python 3",
   "language": "python",
   "name": "python3"
  },
  "language_info": {
   "codemirror_mode": {
    "name": "ipython",
    "version": 3
   },
   "file_extension": ".py",
   "mimetype": "text/x-python",
   "name": "python",
   "nbconvert_exporter": "python",
   "pygments_lexer": "ipython3",
   "version": "3.6.7"
  }
 },
 "nbformat": 4,
 "nbformat_minor": 2
}
